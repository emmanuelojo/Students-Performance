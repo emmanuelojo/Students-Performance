{
 "cells": [
  {
   "cell_type": "markdown",
   "metadata": {},
   "source": [
    "# Predicting Students' Performance Based On Available Variables"
   ]
  },
  {
   "cell_type": "code",
   "execution_count": 1,
   "metadata": {},
   "outputs": [],
   "source": [
    "# Importing libraries\n",
    "\n",
    "import pandas as pd\n",
    "import numpy as np\n",
    "import matplotlib.pyplot as plt\n",
    "%matplotlib inline\n",
    "\n",
    "import seaborn as sns\n",
    "\n",
    "from sklearn.model_selection import train_test_split\n",
    "from sklearn.tree import DecisionTreeRegressor\n",
    "from sklearn.linear_model import LogisticRegression\n",
    "from sklearn.svm import SVR"
   ]
  },
  {
   "cell_type": "code",
   "execution_count": 2,
   "metadata": {},
   "outputs": [],
   "source": [
    "# Loading datasets\n",
    "\n",
    "train = pd.read_csv('StudentPerformanceTrainingSet.csv')\n",
    "test = pd.read_csv('StudentPerformanceTestSet.csv')"
   ]
  },
  {
   "cell_type": "markdown",
   "metadata": {},
   "source": [
    "# Exploratory Data Analysis"
   ]
  },
  {
   "cell_type": "code",
   "execution_count": 3,
   "metadata": {},
   "outputs": [
    {
     "name": "stdout",
     "output_type": "stream",
     "text": [
      "<class 'pandas.core.frame.DataFrame'>\n",
      "RangeIndex: 1200 entries, 0 to 1199\n",
      "Data columns (total 9 columns):\n",
      " #   Column                          Non-Null Count  Dtype \n",
      "---  ------                          --------------  ----- \n",
      " 0   student_id                      1200 non-null   int64 \n",
      " 1   gender                          1161 non-null   object\n",
      " 2   race/ethnicity                  1117 non-null   object\n",
      " 3   parental level of education     1050 non-null   object\n",
      " 4   lunch                           1038 non-null   object\n",
      " 5   test preparation course         1147 non-null   object\n",
      " 6   score                           1200 non-null   int64 \n",
      " 7   parental_job_status             1178 non-null   object\n",
      " 8   parental_wealth_classification  1159 non-null   object\n",
      "dtypes: int64(2), object(7)\n",
      "memory usage: 84.5+ KB\n"
     ]
    }
   ],
   "source": [
    "train.info()"
   ]
  },
  {
   "cell_type": "code",
   "execution_count": 4,
   "metadata": {},
   "outputs": [
    {
     "data": {
      "text/html": [
       "<div>\n",
       "<style scoped>\n",
       "    .dataframe tbody tr th:only-of-type {\n",
       "        vertical-align: middle;\n",
       "    }\n",
       "\n",
       "    .dataframe tbody tr th {\n",
       "        vertical-align: top;\n",
       "    }\n",
       "\n",
       "    .dataframe thead th {\n",
       "        text-align: right;\n",
       "    }\n",
       "</style>\n",
       "<table border=\"1\" class=\"dataframe\">\n",
       "  <thead>\n",
       "    <tr style=\"text-align: right;\">\n",
       "      <th></th>\n",
       "      <th>student_id</th>\n",
       "      <th>score</th>\n",
       "    </tr>\n",
       "  </thead>\n",
       "  <tbody>\n",
       "    <tr>\n",
       "      <th>count</th>\n",
       "      <td>1200.000000</td>\n",
       "      <td>1200.000000</td>\n",
       "    </tr>\n",
       "    <tr>\n",
       "      <th>mean</th>\n",
       "      <td>1013.711667</td>\n",
       "      <td>62.272500</td>\n",
       "    </tr>\n",
       "    <tr>\n",
       "      <th>std</th>\n",
       "      <td>566.800153</td>\n",
       "      <td>14.108122</td>\n",
       "    </tr>\n",
       "    <tr>\n",
       "      <th>min</th>\n",
       "      <td>1.000000</td>\n",
       "      <td>14.000000</td>\n",
       "    </tr>\n",
       "    <tr>\n",
       "      <th>25%</th>\n",
       "      <td>526.750000</td>\n",
       "      <td>53.000000</td>\n",
       "    </tr>\n",
       "    <tr>\n",
       "      <th>50%</th>\n",
       "      <td>1020.500000</td>\n",
       "      <td>63.000000</td>\n",
       "    </tr>\n",
       "    <tr>\n",
       "      <th>75%</th>\n",
       "      <td>1487.250000</td>\n",
       "      <td>73.000000</td>\n",
       "    </tr>\n",
       "    <tr>\n",
       "      <th>max</th>\n",
       "      <td>2000.000000</td>\n",
       "      <td>94.000000</td>\n",
       "    </tr>\n",
       "  </tbody>\n",
       "</table>\n",
       "</div>"
      ],
      "text/plain": [
       "        student_id        score\n",
       "count  1200.000000  1200.000000\n",
       "mean   1013.711667    62.272500\n",
       "std     566.800153    14.108122\n",
       "min       1.000000    14.000000\n",
       "25%     526.750000    53.000000\n",
       "50%    1020.500000    63.000000\n",
       "75%    1487.250000    73.000000\n",
       "max    2000.000000    94.000000"
      ]
     },
     "execution_count": 4,
     "metadata": {},
     "output_type": "execute_result"
    }
   ],
   "source": [
    "train.describe()"
   ]
  },
  {
   "cell_type": "code",
   "execution_count": 5,
   "metadata": {},
   "outputs": [
    {
     "name": "stdout",
     "output_type": "stream",
     "text": [
      "Train data shape:  (1200, 9)\n",
      "Test data shape:  (800, 8)\n"
     ]
    }
   ],
   "source": [
    "print(\"Train data shape: \", train.shape)\n",
    "print(\"Test data shape: \", test.shape)"
   ]
  },
  {
   "cell_type": "code",
   "execution_count": 6,
   "metadata": {},
   "outputs": [
    {
     "data": {
      "text/html": [
       "<div>\n",
       "<style scoped>\n",
       "    .dataframe tbody tr th:only-of-type {\n",
       "        vertical-align: middle;\n",
       "    }\n",
       "\n",
       "    .dataframe tbody tr th {\n",
       "        vertical-align: top;\n",
       "    }\n",
       "\n",
       "    .dataframe thead th {\n",
       "        text-align: right;\n",
       "    }\n",
       "</style>\n",
       "<table border=\"1\" class=\"dataframe\">\n",
       "  <thead>\n",
       "    <tr style=\"text-align: right;\">\n",
       "      <th></th>\n",
       "      <th>student_id</th>\n",
       "      <th>gender</th>\n",
       "      <th>race/ethnicity</th>\n",
       "      <th>parental level of education</th>\n",
       "      <th>lunch</th>\n",
       "      <th>test preparation course</th>\n",
       "      <th>score</th>\n",
       "      <th>parental_job_status</th>\n",
       "      <th>parental_wealth_classification</th>\n",
       "    </tr>\n",
       "  </thead>\n",
       "  <tbody>\n",
       "    <tr>\n",
       "      <th>0</th>\n",
       "      <td>1014</td>\n",
       "      <td>female</td>\n",
       "      <td>group D</td>\n",
       "      <td>high school</td>\n",
       "      <td>standard</td>\n",
       "      <td>completed</td>\n",
       "      <td>88</td>\n",
       "      <td>employed</td>\n",
       "      <td>poor</td>\n",
       "    </tr>\n",
       "    <tr>\n",
       "      <th>1</th>\n",
       "      <td>1650</td>\n",
       "      <td>female</td>\n",
       "      <td>NaN</td>\n",
       "      <td>some high school</td>\n",
       "      <td>free/reduced</td>\n",
       "      <td>completed</td>\n",
       "      <td>34</td>\n",
       "      <td>unemployed</td>\n",
       "      <td>middle class</td>\n",
       "    </tr>\n",
       "    <tr>\n",
       "      <th>2</th>\n",
       "      <td>717</td>\n",
       "      <td>female</td>\n",
       "      <td>group C</td>\n",
       "      <td>some high school</td>\n",
       "      <td>standard</td>\n",
       "      <td>none</td>\n",
       "      <td>59</td>\n",
       "      <td>employed</td>\n",
       "      <td>middle class</td>\n",
       "    </tr>\n",
       "    <tr>\n",
       "      <th>3</th>\n",
       "      <td>258</td>\n",
       "      <td>female</td>\n",
       "      <td>group D</td>\n",
       "      <td>NaN</td>\n",
       "      <td>standard</td>\n",
       "      <td>none</td>\n",
       "      <td>68</td>\n",
       "      <td>employed</td>\n",
       "      <td>poor</td>\n",
       "    </tr>\n",
       "    <tr>\n",
       "      <th>4</th>\n",
       "      <td>1312</td>\n",
       "      <td>male</td>\n",
       "      <td>group D</td>\n",
       "      <td>some college</td>\n",
       "      <td>standard</td>\n",
       "      <td>completed</td>\n",
       "      <td>74</td>\n",
       "      <td>employed</td>\n",
       "      <td>poor</td>\n",
       "    </tr>\n",
       "  </tbody>\n",
       "</table>\n",
       "</div>"
      ],
      "text/plain": [
       "   student_id  gender race/ethnicity parental level of education  \\\n",
       "0        1014  female        group D                 high school   \n",
       "1        1650  female            NaN            some high school   \n",
       "2         717  female        group C            some high school   \n",
       "3         258  female        group D                         NaN   \n",
       "4        1312    male        group D                some college   \n",
       "\n",
       "          lunch test preparation course  score parental_job_status  \\\n",
       "0      standard               completed     88            employed   \n",
       "1  free/reduced               completed     34          unemployed   \n",
       "2      standard                    none     59            employed   \n",
       "3      standard                    none     68            employed   \n",
       "4      standard               completed     74            employed   \n",
       "\n",
       "  parental_wealth_classification  \n",
       "0                           poor  \n",
       "1                   middle class  \n",
       "2                   middle class  \n",
       "3                           poor  \n",
       "4                           poor  "
      ]
     },
     "execution_count": 6,
     "metadata": {},
     "output_type": "execute_result"
    }
   ],
   "source": [
    "# Reading Dataset\n",
    "\n",
    "train.head()"
   ]
  },
  {
   "cell_type": "code",
   "execution_count": 7,
   "metadata": {},
   "outputs": [
    {
     "data": {
      "text/html": [
       "<div>\n",
       "<style scoped>\n",
       "    .dataframe tbody tr th:only-of-type {\n",
       "        vertical-align: middle;\n",
       "    }\n",
       "\n",
       "    .dataframe tbody tr th {\n",
       "        vertical-align: top;\n",
       "    }\n",
       "\n",
       "    .dataframe thead th {\n",
       "        text-align: right;\n",
       "    }\n",
       "</style>\n",
       "<table border=\"1\" class=\"dataframe\">\n",
       "  <thead>\n",
       "    <tr style=\"text-align: right;\">\n",
       "      <th></th>\n",
       "      <th>student_id</th>\n",
       "      <th>gender</th>\n",
       "      <th>race/ethnicity</th>\n",
       "      <th>parental level of education</th>\n",
       "      <th>lunch</th>\n",
       "      <th>test preparation course</th>\n",
       "      <th>score</th>\n",
       "      <th>parental_job_status</th>\n",
       "      <th>parental_wealth_classification</th>\n",
       "    </tr>\n",
       "  </thead>\n",
       "  <tbody>\n",
       "    <tr>\n",
       "      <th>0</th>\n",
       "      <td>1014</td>\n",
       "      <td>female</td>\n",
       "      <td>group D</td>\n",
       "      <td>high school</td>\n",
       "      <td>standard</td>\n",
       "      <td>completed</td>\n",
       "      <td>88</td>\n",
       "      <td>employed</td>\n",
       "      <td>poor</td>\n",
       "    </tr>\n",
       "    <tr>\n",
       "      <th>2</th>\n",
       "      <td>717</td>\n",
       "      <td>female</td>\n",
       "      <td>group C</td>\n",
       "      <td>some high school</td>\n",
       "      <td>standard</td>\n",
       "      <td>none</td>\n",
       "      <td>59</td>\n",
       "      <td>employed</td>\n",
       "      <td>middle class</td>\n",
       "    </tr>\n",
       "    <tr>\n",
       "      <th>4</th>\n",
       "      <td>1312</td>\n",
       "      <td>male</td>\n",
       "      <td>group D</td>\n",
       "      <td>some college</td>\n",
       "      <td>standard</td>\n",
       "      <td>completed</td>\n",
       "      <td>74</td>\n",
       "      <td>employed</td>\n",
       "      <td>poor</td>\n",
       "    </tr>\n",
       "    <tr>\n",
       "      <th>5</th>\n",
       "      <td>1385</td>\n",
       "      <td>male</td>\n",
       "      <td>group C</td>\n",
       "      <td>associate's degree</td>\n",
       "      <td>free/reduced</td>\n",
       "      <td>none</td>\n",
       "      <td>55</td>\n",
       "      <td>employed</td>\n",
       "      <td>middle class</td>\n",
       "    </tr>\n",
       "    <tr>\n",
       "      <th>6</th>\n",
       "      <td>988</td>\n",
       "      <td>male</td>\n",
       "      <td>group C</td>\n",
       "      <td>some high school</td>\n",
       "      <td>free/reduced</td>\n",
       "      <td>none</td>\n",
       "      <td>74</td>\n",
       "      <td>employed</td>\n",
       "      <td>poor</td>\n",
       "    </tr>\n",
       "  </tbody>\n",
       "</table>\n",
       "</div>"
      ],
      "text/plain": [
       "   student_id  gender race/ethnicity parental level of education  \\\n",
       "0        1014  female        group D                 high school   \n",
       "2         717  female        group C            some high school   \n",
       "4        1312    male        group D                some college   \n",
       "5        1385    male        group C          associate's degree   \n",
       "6         988    male        group C            some high school   \n",
       "\n",
       "          lunch test preparation course  score parental_job_status  \\\n",
       "0      standard               completed     88            employed   \n",
       "2      standard                    none     59            employed   \n",
       "4      standard               completed     74            employed   \n",
       "5  free/reduced                    none     55            employed   \n",
       "6  free/reduced                    none     74            employed   \n",
       "\n",
       "  parental_wealth_classification  \n",
       "0                           poor  \n",
       "2                   middle class  \n",
       "4                           poor  \n",
       "5                   middle class  \n",
       "6                           poor  "
      ]
     },
     "execution_count": 7,
     "metadata": {},
     "output_type": "execute_result"
    }
   ],
   "source": [
    "#Data cleaning\n",
    "\n",
    "train =train.dropna()\n",
    "train.head()"
   ]
  },
  {
   "cell_type": "code",
   "execution_count": 8,
   "metadata": {},
   "outputs": [],
   "source": [
    "import matplotlib.pyplot as plt\n",
    "plt.style.use(style='ggplot')\n",
    "plt.rcParams['figure.figsize']=(12,6)"
   ]
  },
  {
   "cell_type": "code",
   "execution_count": 9,
   "metadata": {},
   "outputs": [
    {
     "data": {
      "text/plain": [
       "count    760.000000\n",
       "mean      62.200000\n",
       "std       14.043674\n",
       "min       14.000000\n",
       "25%       52.750000\n",
       "50%       62.000000\n",
       "75%       72.000000\n",
       "max       94.000000\n",
       "Name: score, dtype: float64"
      ]
     },
     "execution_count": 9,
     "metadata": {},
     "output_type": "execute_result"
    }
   ],
   "source": [
    "train.score.describe()"
   ]
  },
  {
   "cell_type": "code",
   "execution_count": 10,
   "metadata": {},
   "outputs": [
    {
     "name": "stdout",
     "output_type": "stream",
     "text": [
      "Skew is:  -0.12608587000614996\n"
     ]
    },
    {
     "data": {
      "image/png": "[encoded data removed]",
      "text/plain": [
       "<Figure size 864x432 with 1 Axes>"
      ]
     },
     "metadata": {},
     "output_type": "display_data"
    }
   ],
   "source": [
    "print(\"Skew is: \", train.score.skew())\n",
    "plt.hist(train.score, color='blue')\n",
    "plt.show()"
   ]
  },
  {
   "cell_type": "code",
   "execution_count": 11,
   "metadata": {},
   "outputs": [
    {
     "data": {
      "text/plain": [
       "array(['high school', 'some high school', 'some college',\n",
       "       \"associate's degree\", \"master's degree\", \"bachelor's degree\"],\n",
       "      dtype=object)"
      ]
     },
     "execution_count": 11,
     "metadata": {},
     "output_type": "execute_result"
    }
   ],
   "source": [
    "train['parental level of education'].unique()"
   ]
  },
  {
   "cell_type": "code",
   "execution_count": 12,
   "metadata": {},
   "outputs": [
    {
     "data": {
      "text/plain": [
       "array(['employed', 'unemployed'], dtype=object)"
      ]
     },
     "execution_count": 12,
     "metadata": {},
     "output_type": "execute_result"
    }
   ],
   "source": [
    "train['parental_job_status'].unique()"
   ]
  },
  {
   "cell_type": "code",
   "execution_count": 13,
   "metadata": {},
   "outputs": [
    {
     "data": {
      "text/plain": [
       "array(['poor', 'middle class', 'wealthy'], dtype=object)"
      ]
     },
     "execution_count": 13,
     "metadata": {},
     "output_type": "execute_result"
    }
   ],
   "source": [
    "train['parental_wealth_classification'].unique()"
   ]
  },
  {
   "cell_type": "code",
   "execution_count": 14,
   "metadata": {},
   "outputs": [
    {
     "data": {
      "text/plain": [
       "array(['completed', 'none'], dtype=object)"
      ]
     },
     "execution_count": 14,
     "metadata": {},
     "output_type": "execute_result"
    }
   ],
   "source": [
    "train['test preparation course'].unique()"
   ]
  },
  {
   "cell_type": "code",
   "execution_count": 15,
   "metadata": {},
   "outputs": [
    {
     "data": {
      "text/html": [
       "<div>\n",
       "<style scoped>\n",
       "    .dataframe tbody tr th:only-of-type {\n",
       "        vertical-align: middle;\n",
       "    }\n",
       "\n",
       "    .dataframe tbody tr th {\n",
       "        vertical-align: top;\n",
       "    }\n",
       "\n",
       "    .dataframe thead th {\n",
       "        text-align: right;\n",
       "    }\n",
       "</style>\n",
       "<table border=\"1\" class=\"dataframe\">\n",
       "  <thead>\n",
       "    <tr style=\"text-align: right;\">\n",
       "      <th></th>\n",
       "      <th>student_id</th>\n",
       "      <th>gender</th>\n",
       "      <th>test preparation course</th>\n",
       "      <th>score</th>\n",
       "      <th>parental_wealth_classification</th>\n",
       "      <th>edu</th>\n",
       "      <th>job</th>\n",
       "      <th>wealth</th>\n",
       "      <th>course</th>\n",
       "    </tr>\n",
       "  </thead>\n",
       "  <tbody>\n",
       "    <tr>\n",
       "      <th>0</th>\n",
       "      <td>1014</td>\n",
       "      <td>female</td>\n",
       "      <td>completed</td>\n",
       "      <td>88</td>\n",
       "      <td>poor</td>\n",
       "      <td>1</td>\n",
       "      <td>1</td>\n",
       "      <td>0</td>\n",
       "      <td>1</td>\n",
       "    </tr>\n",
       "    <tr>\n",
       "      <th>2</th>\n",
       "      <td>717</td>\n",
       "      <td>female</td>\n",
       "      <td>none</td>\n",
       "      <td>59</td>\n",
       "      <td>middle class</td>\n",
       "      <td>0</td>\n",
       "      <td>1</td>\n",
       "      <td>1</td>\n",
       "      <td>0</td>\n",
       "    </tr>\n",
       "    <tr>\n",
       "      <th>4</th>\n",
       "      <td>1312</td>\n",
       "      <td>male</td>\n",
       "      <td>completed</td>\n",
       "      <td>74</td>\n",
       "      <td>poor</td>\n",
       "      <td>2</td>\n",
       "      <td>1</td>\n",
       "      <td>0</td>\n",
       "      <td>1</td>\n",
       "    </tr>\n",
       "    <tr>\n",
       "      <th>5</th>\n",
       "      <td>1385</td>\n",
       "      <td>male</td>\n",
       "      <td>none</td>\n",
       "      <td>55</td>\n",
       "      <td>middle class</td>\n",
       "      <td>3</td>\n",
       "      <td>1</td>\n",
       "      <td>1</td>\n",
       "      <td>0</td>\n",
       "    </tr>\n",
       "    <tr>\n",
       "      <th>6</th>\n",
       "      <td>988</td>\n",
       "      <td>male</td>\n",
       "      <td>none</td>\n",
       "      <td>74</td>\n",
       "      <td>poor</td>\n",
       "      <td>0</td>\n",
       "      <td>1</td>\n",
       "      <td>0</td>\n",
       "      <td>0</td>\n",
       "    </tr>\n",
       "  </tbody>\n",
       "</table>\n",
       "</div>"
      ],
      "text/plain": [
       "   student_id  gender test preparation course  score  \\\n",
       "0        1014  female               completed     88   \n",
       "2         717  female                    none     59   \n",
       "4        1312    male               completed     74   \n",
       "5        1385    male                    none     55   \n",
       "6         988    male                    none     74   \n",
       "\n",
       "  parental_wealth_classification  edu  job  wealth  course  \n",
       "0                           poor    1    1       0       1  \n",
       "2                   middle class    0    1       1       0  \n",
       "4                           poor    2    1       0       1  \n",
       "5                   middle class    3    1       1       0  \n",
       "6                           poor    0    1       0       0  "
      ]
     },
     "execution_count": 15,
     "metadata": {},
     "output_type": "execute_result"
    }
   ],
   "source": [
    "# Feature Engineering on these columns\n",
    "\n",
    "train['edu'] = train['parental level of education'].map({\"some high school\":0, \"high school\":1, \"some college\":2, \"associate's degree\":3,\n",
    "                                                         \"bachelor's degree\":4, \"master's degree\":5})\n",
    "test['edu'] = test['parental level of education'].map({\"some high school\":0, \"high school\":1, \"some college\":2, \"associate's degree\":3,\n",
    "                                                         \"bachelor's degree\":4, \"master's degree\":5})\n",
    "\n",
    "train['job'] = train['parental_job_status'].map({'unemployed':0, 'employed':1})\n",
    "test['job'] = test['parental_job_status'].map({'unemployed':0, 'employed':1})\n",
    "\n",
    "train['wealth'] = train['parental_wealth_classification'].map({'poor':0, 'middle class':1, 'wealthy':2})\n",
    "test['wealth'] = test['parental_wealth_classification'].map({'poor':0, 'middle class':1, 'wealthy':2})\n",
    "\n",
    "train['course'] = train['test preparation course'].map({'none':0, 'completed':1})\n",
    "test['course'] = test['test preparation course'].map({'none':0, 'completed':1})\n",
    "\n",
    "train.drop(train[['race/ethnicity','lunch','parental level of education',  'parental_job_status']], axis='columns', inplace=True)\n",
    "test.drop(test[['race/ethnicity','lunch','parental level of education',  'parental_job_status']], axis='columns', inplace=True)\n",
    "train.head()"
   ]
  },
  {
   "cell_type": "code",
   "execution_count": 16,
   "metadata": {},
   "outputs": [
    {
     "name": "stdout",
     "output_type": "stream",
     "text": [
      "[1 0 2 3 5 4]\n",
      "[1 0]\n",
      "[0 1 2]\n",
      "[1 0]\n"
     ]
    }
   ],
   "source": [
    "print(train['edu'].unique())\n",
    "print(train['job'].unique())\n",
    "print(train['wealth'].unique())\n",
    "print(train['course'].unique())"
   ]
  },
  {
   "cell_type": "markdown",
   "metadata": {},
   "source": [
    "# Data Visualization"
   ]
  },
  {
   "cell_type": "code",
   "execution_count": 17,
   "metadata": {},
   "outputs": [
    {
     "data": {
      "text/plain": [
       "<matplotlib.legend.Legend at 0x13a20216b08>"
      ]
     },
     "execution_count": 17,
     "metadata": {},
     "output_type": "execute_result"
    },
    {
     "data": {
      "image/png": "[encoded data removed]",
      "text/plain": [
       "<Figure size 864x432 with 1 Axes>"
      ]
     },
     "metadata": {},
     "output_type": "display_data"
    }
   ],
   "source": [
    "plt.scatter(train.score[:50], train.edu[:50], color='red', label='edu')\n",
    "plt.scatter(train.score[:50], train.job[:50], color='yellow', label='job')\n",
    "plt.scatter(train.score[:50], train.wealth[:50], color='green', label='wealth')\n",
    "plt.scatter(train.score[:50], train.course[:50], color='blue', label='course')\n",
    "\n",
    "plt.xlabel(\"scores\")\n",
    "plt.ylabel(\"factors\")\n",
    "plt.title(\"Factors Vs Scores\")\n",
    "plt.legend()"
   ]
  },
  {
   "cell_type": "code",
   "execution_count": 18,
   "metadata": {},
   "outputs": [
    {
     "data": {
      "text/plain": [
       "<matplotlib.legend.Legend at 0x13a201d4388>"
      ]
     },
     "execution_count": 18,
     "metadata": {},
     "output_type": "execute_result"
    },
    {
     "data": {
      "image/png": "[encoded data removed]",
      "text/plain": [
       "<Figure size 864x432 with 1 Axes>"
      ]
     },
     "metadata": {},
     "output_type": "display_data"
    }
   ],
   "source": [
    "plt.scatter(train.score[:50], train.edu[:50], color='red', label='edu')\n",
    "plt.xlabel(\"scores\")\n",
    "plt.ylabel(\"edu\")\n",
    "plt.title(\"Education Vs Scores\")\n",
    "plt.legend()"
   ]
  },
  {
   "cell_type": "code",
   "execution_count": 19,
   "metadata": {},
   "outputs": [
    {
     "data": {
      "text/plain": [
       "<matplotlib.legend.Legend at 0x13a2011f948>"
      ]
     },
     "execution_count": 19,
     "metadata": {},
     "output_type": "execute_result"
    },
    {
     "data": {
      "image/png": "[encoded data removed]",
      "text/plain": [
       "<Figure size 864x432 with 1 Axes>"
      ]
     },
     "metadata": {},
     "output_type": "display_data"
    }
   ],
   "source": [
    "plt.scatter(train.score[:50], train.job[:50], color='yellow', label='job')\n",
    "plt.xlabel(\"scores\")\n",
    "plt.ylabel(\"job\")\n",
    "plt.title(\"Job Status Vs Scores\")\n",
    "plt.legend()"
   ]
  },
  {
   "cell_type": "code",
   "execution_count": 20,
   "metadata": {},
   "outputs": [
    {
     "data": {
      "text/plain": [
       "<matplotlib.legend.Legend at 0x13a20199308>"
      ]
     },
     "execution_count": 20,
     "metadata": {},
     "output_type": "execute_result"
    },
    {
     "data": {
      "image/png": "[encoded data removed]",
      "text/plain": [
       "<Figure size 864x432 with 1 Axes>"
      ]
     },
     "metadata": {},
     "output_type": "display_data"
    }
   ],
   "source": [
    "plt.scatter(train.score[:50], train.wealth[:50], color='green', label='wealth')\n",
    "plt.xlabel(\"scores\")\n",
    "plt.ylabel(\"wealth\")\n",
    "plt.title(\"Wealth Vs Scores\")\n",
    "plt.legend()"
   ]
  },
  {
   "cell_type": "code",
   "execution_count": 21,
   "metadata": {},
   "outputs": [
    {
     "data": {
      "text/plain": [
       "<matplotlib.legend.Legend at 0x13a2077e988>"
      ]
     },
     "execution_count": 21,
     "metadata": {},
     "output_type": "execute_result"
    },
    {
     "data": {
      "image/png": "[encoded data removed]",
      "text/plain": [
       "<Figure size 864x432 with 1 Axes>"
      ]
     },
     "metadata": {},
     "output_type": "display_data"
    }
   ],
   "source": [
    "plt.scatter(train.score[:50], train.course[:50], color='blue', label='course')\n",
    "plt.xlabel(\"scores\")\n",
    "plt.ylabel(\"course\")\n",
    "plt.title(\"Course Vs Scores\")\n",
    "plt.legend()"
   ]
  },
  {
   "cell_type": "code",
   "execution_count": 22,
   "metadata": {},
   "outputs": [
    {
     "data": {
      "image/png": "[encoded data removed]",
      "text/plain": [
       "<Figure size 864x432 with 1 Axes>"
      ]
     },
     "metadata": {},
     "output_type": "display_data"
    }
   ],
   "source": [
    "plt.hist(train.edu, bins=12, color='green')\n",
    "plt.xlabel(\"Education\")\n",
    "plt.ylabel(\"Frequency\")\n",
    "plt.show()"
   ]
  },
  {
   "cell_type": "code",
   "execution_count": 23,
   "metadata": {},
   "outputs": [
    {
     "data": {
      "text/plain": [
       "array([[<matplotlib.axes._subplots.AxesSubplot object at 0x0000013A201FF688>,\n",
       "        <matplotlib.axes._subplots.AxesSubplot object at 0x0000013A2054DA08>],\n",
       "       [<matplotlib.axes._subplots.AxesSubplot object at 0x0000013A205B2988>,\n",
       "        <matplotlib.axes._subplots.AxesSubplot object at 0x0000013A205EC388>],\n",
       "       [<matplotlib.axes._subplots.AxesSubplot object at 0x0000013A20624088>,\n",
       "        <matplotlib.axes._subplots.AxesSubplot object at 0x0000013A209FD148>]],\n",
       "      dtype=object)"
      ]
     },
     "execution_count": 23,
     "metadata": {},
     "output_type": "execute_result"
    },
    {
     "data": {
      "image/png": "[encoded data removed]",
      "text/plain": [
       "<Figure size 1440x1440 with 6 Axes>"
      ]
     },
     "metadata": {},
     "output_type": "display_data"
    }
   ],
   "source": [
    "train.hist(figsize=(20,20))"
   ]
  },
  {
   "cell_type": "code",
   "execution_count": 24,
   "metadata": {},
   "outputs": [
    {
     "data": {
      "text/plain": [
       "<seaborn.axisgrid.PairGrid at 0x13a214829c8>"
      ]
     },
     "execution_count": 24,
     "metadata": {},
     "output_type": "execute_result"
    },
    {
     "data": {
      "text/plain": [
       "<Figure size 1440x864 with 0 Axes>"
      ]
     },
     "metadata": {},
     "output_type": "display_data"
    },
    {
     "data": {
      "image/png": "[encoded data removed]",
      "text/plain": [
       "<Figure size 900x900 with 30 Axes>"
      ]
     },
     "metadata": {},
     "output_type": "display_data"
    }
   ],
   "source": [
    "plt.figure(figsize=(20, 12))\n",
    "sns.pairplot(train[['gender','score','edu','job','wealth','course']])"
   ]
  },
  {
   "cell_type": "code",
   "execution_count": 25,
   "metadata": {},
   "outputs": [
    {
     "data": {
      "text/plain": [
       "male      384\n",
       "female    376\n",
       "Name: gender, dtype: int64"
      ]
     },
     "execution_count": 25,
     "metadata": {},
     "output_type": "execute_result"
    }
   ],
   "source": [
    "gender =train['gender'].value_counts()\n",
    "gender"
   ]
  },
  {
   "cell_type": "code",
   "execution_count": 26,
   "metadata": {},
   "outputs": [
    {
     "data": {
      "image/png": "[encoded data removed]",
      "text/plain": [
       "<Figure size 1296x720 with 1 Axes>"
      ]
     },
     "metadata": {},
     "output_type": "display_data"
    }
   ],
   "source": [
    "plt.figure(figsize=(18, 10))\n",
    "color=('blue', 'yellow')\n",
    "plt.pie(gender, data=train, labels=(\"Male\", \"Female\"), colors=color, autopct=\"%1.1f%%\")\n",
    "\n",
    "plt.title(\"Gender Distribution\", loc='center')\n",
    "plt.show()"
   ]
  },
  {
   "cell_type": "code",
   "execution_count": 27,
   "metadata": {},
   "outputs": [
    {
     "data": {
      "text/plain": [
       "none         530\n",
       "completed    230\n",
       "Name: test preparation course, dtype: int64"
      ]
     },
     "execution_count": 27,
     "metadata": {},
     "output_type": "execute_result"
    }
   ],
   "source": [
    "prep = train['test preparation course'].value_counts()\n",
    "prep"
   ]
  },
  {
   "cell_type": "code",
   "execution_count": 28,
   "metadata": {},
   "outputs": [
    {
     "data": {
      "image/png": "[encoded data removed]",
      "text/plain": [
       "<Figure size 1296x720 with 1 Axes>"
      ]
     },
     "metadata": {},
     "output_type": "display_data"
    }
   ],
   "source": [
    "plt.figure(figsize=(18, 10))\n",
    "plt.pie(prep, data=train, labels=(\"Not Prepared\", \"Prepared\"), autopct=\"%1.1f%%\")\n",
    "\n",
    "plt.title(\"Distribution of Preparation\", loc='center')\n",
    "plt.show()"
   ]
  },
  {
   "cell_type": "code",
   "execution_count": 29,
   "metadata": {},
   "outputs": [
    {
     "data": {
      "text/plain": [
       "middle class    434\n",
       "poor            259\n",
       "wealthy          67\n",
       "Name: parental_wealth_classification, dtype: int64"
      ]
     },
     "execution_count": 29,
     "metadata": {},
     "output_type": "execute_result"
    }
   ],
   "source": [
    "wealth_status = train['parental_wealth_classification'].value_counts()\n",
    "wealth_status"
   ]
  },
  {
   "cell_type": "code",
   "execution_count": 30,
   "metadata": {},
   "outputs": [
    {
     "data": {
      "image/png": "[encoded data removed]",
      "text/plain": [
       "<Figure size 1296x720 with 1 Axes>"
      ]
     },
     "metadata": {},
     "output_type": "display_data"
    }
   ],
   "source": [
    "plt.figure(figsize=(18, 10))\n",
    "plt.pie(wealth_status, data=train, labels=(\"Middle Class\", \"Poor\", \"Wealthy\"), autopct=\"%1.1f%%\")\n",
    "\n",
    "plt.title(\"Parents' Wealth Status\", loc='center')\n",
    "plt.show()"
   ]
  },
  {
   "cell_type": "markdown",
   "metadata": {},
   "source": [
    "# Feature Engineering"
   ]
  },
  {
   "cell_type": "code",
   "execution_count": 31,
   "metadata": {},
   "outputs": [
    {
     "data": {
      "text/html": [
       "<div>\n",
       "<style scoped>\n",
       "    .dataframe tbody tr th:only-of-type {\n",
       "        vertical-align: middle;\n",
       "    }\n",
       "\n",
       "    .dataframe tbody tr th {\n",
       "        vertical-align: top;\n",
       "    }\n",
       "\n",
       "    .dataframe thead th {\n",
       "        text-align: right;\n",
       "    }\n",
       "</style>\n",
       "<table border=\"1\" class=\"dataframe\">\n",
       "  <thead>\n",
       "    <tr style=\"text-align: right;\">\n",
       "      <th></th>\n",
       "      <th>edu</th>\n",
       "      <th>job</th>\n",
       "      <th>wealth</th>\n",
       "      <th>course</th>\n",
       "    </tr>\n",
       "  </thead>\n",
       "  <tbody>\n",
       "    <tr>\n",
       "      <th>0</th>\n",
       "      <td>1</td>\n",
       "      <td>1</td>\n",
       "      <td>0</td>\n",
       "      <td>1</td>\n",
       "    </tr>\n",
       "    <tr>\n",
       "      <th>2</th>\n",
       "      <td>0</td>\n",
       "      <td>1</td>\n",
       "      <td>1</td>\n",
       "      <td>0</td>\n",
       "    </tr>\n",
       "    <tr>\n",
       "      <th>4</th>\n",
       "      <td>2</td>\n",
       "      <td>1</td>\n",
       "      <td>0</td>\n",
       "      <td>1</td>\n",
       "    </tr>\n",
       "    <tr>\n",
       "      <th>5</th>\n",
       "      <td>3</td>\n",
       "      <td>1</td>\n",
       "      <td>1</td>\n",
       "      <td>0</td>\n",
       "    </tr>\n",
       "    <tr>\n",
       "      <th>6</th>\n",
       "      <td>0</td>\n",
       "      <td>1</td>\n",
       "      <td>0</td>\n",
       "      <td>0</td>\n",
       "    </tr>\n",
       "  </tbody>\n",
       "</table>\n",
       "</div>"
      ],
      "text/plain": [
       "   edu  job  wealth  course\n",
       "0    1    1       0       1\n",
       "2    0    1       1       0\n",
       "4    2    1       0       1\n",
       "5    3    1       1       0\n",
       "6    0    1       0       0"
      ]
     },
     "execution_count": 31,
     "metadata": {},
     "output_type": "execute_result"
    }
   ],
   "source": [
    "# Splitting Data\n",
    "\n",
    "X = train[['edu', 'job', 'wealth', 'course']]\n",
    "y = train['score']\n",
    "\n",
    "X.head()"
   ]
  },
  {
   "cell_type": "code",
   "execution_count": 32,
   "metadata": {},
   "outputs": [
    {
     "data": {
      "text/plain": [
       "0    88\n",
       "2    59\n",
       "4    74\n",
       "5    55\n",
       "6    74\n",
       "Name: score, dtype: int64"
      ]
     },
     "execution_count": 32,
     "metadata": {},
     "output_type": "execute_result"
    }
   ],
   "source": [
    "y.head()"
   ]
  },
  {
   "cell_type": "code",
   "execution_count": 33,
   "metadata": {},
   "outputs": [],
   "source": [
    "X_train, X_test, y_train, y_test = train_test_split(X, y, test_size=0.3)"
   ]
  },
  {
   "cell_type": "markdown",
   "metadata": {},
   "source": [
    "# Building Models"
   ]
  },
  {
   "cell_type": "markdown",
   "metadata": {},
   "source": [
    "## Try different models and pick the optimal"
   ]
  },
  {
   "cell_type": "code",
   "execution_count": 34,
   "metadata": {},
   "outputs": [
    {
     "data": {
      "text/plain": [
       "0.7947164099359273"
      ]
     },
     "execution_count": 34,
     "metadata": {},
     "output_type": "execute_result"
    }
   ],
   "source": [
    "tree = DecisionTreeRegressor()\n",
    "tree.fit(X_train, y_train)\n",
    "\n",
    "tree.score(X_test, y_test)"
   ]
  },
  {
   "cell_type": "code",
   "execution_count": 35,
   "metadata": {},
   "outputs": [
    {
     "data": {
      "text/plain": [
       "0.7888056367646565"
      ]
     },
     "execution_count": 35,
     "metadata": {},
     "output_type": "execute_result"
    }
   ],
   "source": [
    "rbf = SVR(kernel='rbf',C=1e3, gamma=0.1)\n",
    "rbf.fit(X_train, y_train)\n",
    "\n",
    "rbf.score(X_test, y_test)"
   ]
  },
  {
   "cell_type": "markdown",
   "metadata": {},
   "source": [
    "### Decision Tree Regressor had a higher score so we adopt its model"
   ]
  },
  {
   "cell_type": "code",
   "execution_count": 36,
   "metadata": {},
   "outputs": [
    {
     "data": {
      "text/plain": [
       "array([63.75      , 77.        , 77.        , 80.47058824, 80.07692308,\n",
       "       42.72222222, 61.        , 63.5       , 42.13636364, 77.        ,\n",
       "       79.27272727, 75.66666667, 42.13636364, 80.47058824, 42.72222222,\n",
       "       74.96      , 42.13636364, 74.96      , 43.61111111, 45.92307692,\n",
       "       75.29411765, 61.        , 60.51612903, 80.47058824, 43.61111111,\n",
       "       59.38888889, 77.        , 62.33333333, 59.625     , 75.29411765,\n",
       "       43.5       , 77.        , 59.625     , 59.38888889, 79.27272727,\n",
       "       44.67741935, 62.        , 79.27272727, 77.        , 74.31034483,\n",
       "       75.05882353, 74.96      , 62.33333333, 62.        , 44.67741935,\n",
       "       42.72222222, 62.33333333, 43.61111111, 42.72222222, 60.55555556,\n",
       "       60.51612903, 59.9       , 75.66666667, 75.05882353, 62.33333333,\n",
       "       74.96      , 74.31034483, 63.5       , 43.61111111, 45.92307692,\n",
       "       80.47058824, 60.55555556, 42.72222222, 60.55555556, 77.        ,\n",
       "       45.92307692, 59.625     , 79.27272727, 44.67741935, 74.31034483,\n",
       "       59.625     , 79.27272727, 75.05882353, 42.13636364, 58.16666667,\n",
       "       42.72222222, 44.67741935, 43.61111111, 42.13636364, 45.        ,\n",
       "       42.72222222, 60.55555556, 77.55      , 60.55555556, 44.67741935,\n",
       "       80.47058824, 75.29411765, 42.13636364, 74.31034483, 46.83333333,\n",
       "       59.625     , 46.        , 60.55555556, 42.72222222, 60.51612903,\n",
       "       62.33333333, 44.67741935, 77.        , 42.13636364, 60.51612903,\n",
       "       79.27272727, 59.76923077, 80.47058824, 59.625     , 79.27272727,\n",
       "       42.72222222, 59.76923077, 74.31034483, 46.        , 59.76923077,\n",
       "       59.625     , 80.07692308, 59.38888889, 80.47058824, 80.07692308,\n",
       "       77.        , 59.76923077, 58.16666667, 44.67741935, 42.13636364,\n",
       "       44.67741935, 78.71428571, 42.13636364, 56.        , 42.72222222,\n",
       "       59.38888889, 59.76923077, 60.51612903, 74.96      , 59.625     ,\n",
       "       74.96      , 43.5       , 74.31034483, 59.38888889, 78.71428571,\n",
       "       63.75      , 43.61111111, 44.67741935, 74.31034483, 59.38888889,\n",
       "       59.625     , 74.96      , 62.33333333, 59.38888889, 42.13636364,\n",
       "       64.83333333, 60.51612903, 44.4       , 59.76923077, 75.05882353,\n",
       "       58.16666667, 74.31034483, 61.        , 59.76923077, 45.        ,\n",
       "       74.96      , 60.55555556, 59.38888889, 60.51612903, 42.72222222,\n",
       "       78.71428571, 74.31034483, 59.38888889, 54.        , 74.31034483,\n",
       "       42.72222222, 43.61111111, 62.        , 78.71428571, 58.16666667,\n",
       "       66.33333333, 60.51612903, 58.16666667, 74.96      , 60.51612903,\n",
       "       44.67741935, 44.67741935, 42.        , 60.55555556, 59.76923077,\n",
       "       64.16666667, 44.67741935, 77.        , 42.13636364, 60.51612903,\n",
       "       80.47058824, 75.05882353, 59.76923077, 62.        , 58.16666667,\n",
       "       74.96      , 66.33333333, 59.38888889, 80.07692308, 59.625     ,\n",
       "       44.67741935, 42.13636364, 66.33333333, 60.51612903, 59.        ,\n",
       "       59.38888889, 59.625     , 79.27272727, 44.67741935, 60.51612903,\n",
       "       42.13636364, 79.27272727, 62.33333333, 43.5       , 61.        ,\n",
       "       62.        , 45.        , 44.67741935, 59.38888889, 75.29411765,\n",
       "       80.07692308, 44.4       , 44.4       , 74.31034483, 75.29411765,\n",
       "       77.55      , 78.71428571, 59.38888889, 79.27272727, 61.2       ,\n",
       "       42.13636364, 59.625     , 79.27272727])"
      ]
     },
     "execution_count": 36,
     "metadata": {},
     "output_type": "execute_result"
    }
   ],
   "source": [
    "# Predicting the test values\n",
    "\n",
    "prediction = tree.predict(X_test)\n",
    "prediction"
   ]
  },
  {
   "cell_type": "code",
   "execution_count": 37,
   "metadata": {},
   "outputs": [],
   "source": [
    "# Merging model into our test dataset\n",
    "\n",
    "finalz = pd.DataFrame()\n",
    "finalz['student_id'] = test.student_id"
   ]
  },
  {
   "cell_type": "code",
   "execution_count": 38,
   "metadata": {},
   "outputs": [
    {
     "data": {
      "text/html": [
       "<div>\n",
       "<style scoped>\n",
       "    .dataframe tbody tr th:only-of-type {\n",
       "        vertical-align: middle;\n",
       "    }\n",
       "\n",
       "    .dataframe tbody tr th {\n",
       "        vertical-align: top;\n",
       "    }\n",
       "\n",
       "    .dataframe thead th {\n",
       "        text-align: right;\n",
       "    }\n",
       "</style>\n",
       "<table border=\"1\" class=\"dataframe\">\n",
       "  <thead>\n",
       "    <tr style=\"text-align: right;\">\n",
       "      <th></th>\n",
       "      <th>edu</th>\n",
       "      <th>job</th>\n",
       "      <th>wealth</th>\n",
       "      <th>course</th>\n",
       "    </tr>\n",
       "  </thead>\n",
       "  <tbody>\n",
       "    <tr>\n",
       "      <th>0</th>\n",
       "      <td>2.0</td>\n",
       "      <td>1.0</td>\n",
       "      <td>1.0</td>\n",
       "      <td>0.0</td>\n",
       "    </tr>\n",
       "    <tr>\n",
       "      <th>1</th>\n",
       "      <td>3.0</td>\n",
       "      <td>1.0</td>\n",
       "      <td>0.0</td>\n",
       "      <td>0.0</td>\n",
       "    </tr>\n",
       "    <tr>\n",
       "      <th>2</th>\n",
       "      <td>0.0</td>\n",
       "      <td>1.0</td>\n",
       "      <td>1.0</td>\n",
       "      <td>0.0</td>\n",
       "    </tr>\n",
       "    <tr>\n",
       "      <th>3</th>\n",
       "      <td>1.5</td>\n",
       "      <td>1.0</td>\n",
       "      <td>2.0</td>\n",
       "      <td>0.0</td>\n",
       "    </tr>\n",
       "    <tr>\n",
       "      <th>4</th>\n",
       "      <td>3.0</td>\n",
       "      <td>1.0</td>\n",
       "      <td>0.0</td>\n",
       "      <td>1.0</td>\n",
       "    </tr>\n",
       "  </tbody>\n",
       "</table>\n",
       "</div>"
      ],
      "text/plain": [
       "   edu  job  wealth  course\n",
       "0  2.0  1.0     1.0     0.0\n",
       "1  3.0  1.0     0.0     0.0\n",
       "2  0.0  1.0     1.0     0.0\n",
       "3  1.5  1.0     2.0     0.0\n",
       "4  3.0  1.0     0.0     1.0"
      ]
     },
     "execution_count": 38,
     "metadata": {},
     "output_type": "execute_result"
    }
   ],
   "source": [
    "# Feature variables in our test dataset\n",
    "\n",
    "feats= test.select_dtypes(include=[np.number]).drop(['student_id'], axis=1).interpolate()\n",
    "feats.head()"
   ]
  },
  {
   "cell_type": "markdown",
   "metadata": {},
   "source": [
    "## Feature Engineering on our test dataset"
   ]
  },
  {
   "cell_type": "code",
   "execution_count": 39,
   "metadata": {},
   "outputs": [
    {
     "data": {
      "text/plain": [
       "2.0"
      ]
     },
     "execution_count": 39,
     "metadata": {},
     "output_type": "execute_result"
    }
   ],
   "source": [
    "feats.edu.median()"
   ]
  },
  {
   "cell_type": "code",
   "execution_count": 40,
   "metadata": {},
   "outputs": [
    {
     "data": {
      "text/plain": [
       "0    2.0\n",
       "1    3.0\n",
       "2    0.0\n",
       "3    1.5\n",
       "4    3.0\n",
       "Name: edu, dtype: float64"
      ]
     },
     "execution_count": 40,
     "metadata": {},
     "output_type": "execute_result"
    }
   ],
   "source": [
    "# Replacing 'na' values which are '-1' to median score\n",
    "\n",
    "feats['edu'].replace(-1, 1, inplace=True)\n",
    "feats.edu.head()"
   ]
  },
  {
   "cell_type": "code",
   "execution_count": 41,
   "metadata": {},
   "outputs": [
    {
     "data": {
      "text/html": [
       "<div>\n",
       "<style scoped>\n",
       "    .dataframe tbody tr th:only-of-type {\n",
       "        vertical-align: middle;\n",
       "    }\n",
       "\n",
       "    .dataframe tbody tr th {\n",
       "        vertical-align: top;\n",
       "    }\n",
       "\n",
       "    .dataframe thead th {\n",
       "        text-align: right;\n",
       "    }\n",
       "</style>\n",
       "<table border=\"1\" class=\"dataframe\">\n",
       "  <thead>\n",
       "    <tr style=\"text-align: right;\">\n",
       "      <th></th>\n",
       "      <th>edu</th>\n",
       "      <th>job</th>\n",
       "      <th>wealth</th>\n",
       "      <th>course</th>\n",
       "    </tr>\n",
       "  </thead>\n",
       "  <tbody>\n",
       "    <tr>\n",
       "      <th>0</th>\n",
       "      <td>2.0</td>\n",
       "      <td>1.0</td>\n",
       "      <td>1.0</td>\n",
       "      <td>0.0</td>\n",
       "    </tr>\n",
       "    <tr>\n",
       "      <th>1</th>\n",
       "      <td>3.0</td>\n",
       "      <td>1.0</td>\n",
       "      <td>0.0</td>\n",
       "      <td>0.0</td>\n",
       "    </tr>\n",
       "    <tr>\n",
       "      <th>2</th>\n",
       "      <td>0.0</td>\n",
       "      <td>1.0</td>\n",
       "      <td>1.0</td>\n",
       "      <td>0.0</td>\n",
       "    </tr>\n",
       "    <tr>\n",
       "      <th>3</th>\n",
       "      <td>1.5</td>\n",
       "      <td>1.0</td>\n",
       "      <td>2.0</td>\n",
       "      <td>0.0</td>\n",
       "    </tr>\n",
       "    <tr>\n",
       "      <th>4</th>\n",
       "      <td>3.0</td>\n",
       "      <td>1.0</td>\n",
       "      <td>0.0</td>\n",
       "      <td>1.0</td>\n",
       "    </tr>\n",
       "  </tbody>\n",
       "</table>\n",
       "</div>"
      ],
      "text/plain": [
       "   edu  job  wealth  course\n",
       "0  2.0  1.0     1.0     0.0\n",
       "1  3.0  1.0     0.0     0.0\n",
       "2  0.0  1.0     1.0     0.0\n",
       "3  1.5  1.0     2.0     0.0\n",
       "4  3.0  1.0     0.0     1.0"
      ]
     },
     "execution_count": 41,
     "metadata": {},
     "output_type": "execute_result"
    }
   ],
   "source": [
    "\n",
    "feats.job.median()\n",
    "\n",
    "feats['job'].replace(-1, 0, inplace=True)\n",
    "\n",
    "feats.wealth.median()\n",
    "\n",
    "feats['wealth'].replace(-1, 0, inplace=True)\n",
    "\n",
    "feats.course.median()\n",
    "\n",
    "feats['course'].replace(-1, 0, inplace=True)\n",
    "\n",
    "feats.head()"
   ]
  },
  {
   "cell_type": "code",
   "execution_count": 42,
   "metadata": {},
   "outputs": [
    {
     "data": {
      "text/plain": [
       "array([59.625     , 74.96      , 59.38888889, 63.75      , 77.55      ,\n",
       "       79.27272727, 77.        , 77.        , 62.33333333, 63.5       ,\n",
       "       80.47058824, 74.31034483, 59.625     , 75.05882353, 44.67741935,\n",
       "       75.66666667, 42.13636364, 59.38888889, 42.72222222, 75.29411765,\n",
       "       42.72222222, 42.72222222, 58.16666667, 43.5       , 74.31034483,\n",
       "       43.5       , 44.67741935, 74.96      , 63.14285714, 59.625     ,\n",
       "       74.31034483, 74.31034483, 60.55555556, 75.05882353, 75.05882353,\n",
       "       77.55      , 77.        , 77.55      , 75.05882353, 75.66666667,\n",
       "       43.61111111, 58.16666667, 59.76923077, 74.31034483, 75.29411765,\n",
       "       75.66666667, 42.72222222, 59.76923077, 78.71428571, 58.16666667,\n",
       "       74.96      , 64.83333333, 61.        , 60.55555556, 56.        ,\n",
       "       59.9       , 46.83333333, 60.55555556, 44.67741935, 80.47058824,\n",
       "       77.55      , 64.83333333, 75.66666667, 74.96      , 59.9       ,\n",
       "       75.66666667, 42.72222222, 46.83333333, 75.05882353, 60.55555556,\n",
       "       63.75      , 74.31034483, 67.        , 61.2       , 77.        ,\n",
       "       59.76923077, 58.16666667, 46.        , 43.61111111, 42.72222222,\n",
       "       43.61111111, 79.27272727, 43.61111111, 64.16666667, 75.29411765,\n",
       "       63.5       , 44.67741935, 77.        , 60.55555556, 43.5       ,\n",
       "       75.66666667, 79.27272727, 80.07692308, 74.96      , 80.47058824,\n",
       "       59.9       , 59.625     , 75.29411765, 42.13636364, 60.51612903,\n",
       "       59.625     , 80.07692308, 78.71428571, 74.31034483, 59.38888889,\n",
       "       77.55      , 61.        , 63.75      , 63.14285714, 60.55555556,\n",
       "       46.83333333, 44.67741935, 59.625     , 74.96      , 79.27272727,\n",
       "       62.33333333, 60.51612903, 59.625     , 42.72222222, 44.67741935,\n",
       "       46.83333333, 80.47058824, 80.47058824, 43.5       , 42.72222222,\n",
       "       58.16666667, 46.83333333, 43.61111111, 77.        , 63.5       ,\n",
       "       77.        , 75.29411765, 63.        , 59.38888889, 62.33333333,\n",
       "       75.29411765, 63.5       , 77.55      , 58.16666667, 59.625     ,\n",
       "       63.75      , 60.51612903, 74.96      , 59.625     , 58.16666667,\n",
       "       77.55      , 77.        , 42.13636364, 74.96      , 43.61111111,\n",
       "       46.        , 63.14285714, 42.72222222, 42.72222222, 59.38888889,\n",
       "       42.13636364, 60.51612903, 80.47058824, 74.31034483, 43.61111111,\n",
       "       77.55      , 80.47058824, 80.47058824, 44.67741935, 75.29411765,\n",
       "       43.5       , 80.47058824, 62.        , 43.61111111, 42.72222222,\n",
       "       80.47058824, 63.5       , 63.14285714, 77.        , 44.4       ,\n",
       "       60.51612903, 44.67741935, 80.47058824, 77.55      , 61.        ,\n",
       "       80.07692308, 58.16666667, 44.4       , 42.13636364, 43.61111111,\n",
       "       75.29411765, 75.29411765, 78.71428571, 59.76923077, 59.38888889,\n",
       "       77.        , 42.13636364, 59.9       , 42.72222222, 63.5       ,\n",
       "       64.        , 77.55      , 58.16666667, 64.16666667, 60.51612903,\n",
       "       42.13636364, 59.38888889, 42.72222222, 77.        , 60.51612903,\n",
       "       63.5       , 45.5       , 58.16666667, 43.61111111, 62.33333333,\n",
       "       59.9       , 63.5       , 45.        , 74.31034483, 42.72222222,\n",
       "       59.76923077, 45.92307692, 75.66666667, 79.27272727, 58.16666667,\n",
       "       74.96      , 75.05882353, 74.96      , 42.13636364, 45.92307692,\n",
       "       59.38888889, 43.61111111, 45.        , 66.33333333, 44.4       ,\n",
       "       80.07692308, 75.29411765, 74.31034483, 80.47058824, 80.47058824,\n",
       "       60.51612903, 80.07692308, 80.47058824, 77.55      , 42.72222222,\n",
       "       63.        , 42.72222222, 59.76923077, 43.5       , 42.13636364,\n",
       "       63.75      , 59.38888889, 75.66666667, 80.07692308, 77.55      ,\n",
       "       61.2       , 44.67741935, 42.72222222, 77.55      , 63.5       ,\n",
       "       42.72222222, 74.31034483, 60.51612903, 60.51612903, 59.625     ,\n",
       "       62.33333333, 63.75      , 63.66666667, 59.9       , 44.67741935,\n",
       "       60.51612903, 59.625     , 59.        , 74.96      , 60.51612903,\n",
       "       58.16666667, 60.55555556, 59.76923077, 42.72222222, 80.47058824,\n",
       "       59.9       , 43.61111111, 78.71428571, 74.31034483, 62.33333333,\n",
       "       74.96      , 44.67741935, 42.13636364, 75.66666667, 59.76923077,\n",
       "       59.625     , 59.        , 63.66666667, 58.16666667, 63.14285714,\n",
       "       62.33333333, 74.31034483, 64.16666667, 45.5       , 74.31034483,\n",
       "       62.        , 63.14285714, 63.75      , 59.38888889, 60.55555556,\n",
       "       62.        , 44.4       , 75.66666667, 75.29411765, 42.13636364,\n",
       "       42.13636364, 63.75      , 62.33333333, 45.92307692, 77.55      ,\n",
       "       46.        , 77.        , 59.9       , 59.625     , 75.05882353,\n",
       "       79.27272727, 78.71428571, 60.51612903, 75.66666667, 79.27272727,\n",
       "       45.        , 46.83333333, 43.5       , 59.625     , 63.14285714,\n",
       "       44.67741935, 75.05882353, 60.51612903, 63.14285714, 63.14285714,\n",
       "       75.05882353, 59.625     , 60.51612903, 42.72222222, 63.75      ,\n",
       "       59.625     , 78.71428571, 75.29411765, 59.38888889, 43.61111111,\n",
       "       45.92307692, 67.        , 59.38888889, 75.05882353, 43.5       ,\n",
       "       59.76923077, 64.16666667, 45.92307692, 58.16666667, 74.96      ,\n",
       "       77.        , 60.51612903, 43.61111111, 42.72222222, 63.75      ,\n",
       "       60.51612903, 63.75      , 74.96      , 74.96      , 75.66666667,\n",
       "       64.83333333, 58.16666667, 79.27272727, 67.        , 78.71428571,\n",
       "       74.31034483, 43.61111111, 59.38888889, 74.31034483, 45.92307692,\n",
       "       64.        , 61.        , 60.51612903, 59.38888889, 78.71428571,\n",
       "       59.9       , 59.625     , 45.92307692, 60.51612903, 43.61111111,\n",
       "       77.        , 59.76923077, 77.55      , 74.31034483, 42.72222222,\n",
       "       42.13636364, 75.66666667, 75.66666667, 74.96      , 44.67741935,\n",
       "       79.27272727, 60.51612903, 77.        , 59.38888889, 64.83333333,\n",
       "       80.47058824, 63.5       , 74.96      , 77.55      , 45.92307692,\n",
       "       74.31034483, 74.96      , 45.        , 42.13636364, 59.9       ,\n",
       "       75.29411765, 74.96      , 63.5       , 74.96      , 64.16666667,\n",
       "       77.55      , 64.83333333, 59.76923077, 60.55555556, 59.625     ,\n",
       "       60.51612903, 80.07692308, 62.        , 43.61111111, 42.72222222,\n",
       "       42.13636364, 80.07692308, 42.72222222, 59.9       , 44.67741935,\n",
       "       74.31034483, 77.        , 59.9       , 74.31034483, 62.33333333,\n",
       "       77.55      , 42.72222222, 42.72222222, 42.13636364, 42.72222222,\n",
       "       58.16666667, 59.625     , 75.66666667, 77.55      , 74.31034483,\n",
       "       80.47058824, 60.51612903, 79.27272727, 64.        , 77.55      ,\n",
       "       59.38888889, 44.67741935, 42.72222222, 67.        , 77.        ,\n",
       "       74.96      , 62.33333333, 59.625     , 42.72222222, 42.13636364,\n",
       "       42.13636364, 79.27272727, 74.31034483, 58.16666667, 78.71428571,\n",
       "       60.51612903, 46.83333333, 75.29411765, 63.5       , 74.96      ,\n",
       "       74.31034483, 63.14285714, 74.31034483, 44.67741935, 44.67741935,\n",
       "       80.47058824, 43.5       , 59.76923077, 79.27272727, 43.61111111,\n",
       "       63.5       , 46.        , 63.5       , 62.33333333, 74.31034483,\n",
       "       42.72222222, 59.625     , 59.76923077, 46.83333333, 44.4       ,\n",
       "       44.67741935, 80.47058824, 59.38888889, 80.07692308, 56.        ,\n",
       "       42.13636364, 43.5       , 44.67741935, 59.625     , 59.9       ,\n",
       "       75.66666667, 59.9       , 60.55555556, 42.72222222, 74.31034483,\n",
       "       42.72222222, 62.33333333, 59.625     , 42.        , 59.76923077,\n",
       "       74.31034483, 43.5       , 62.33333333, 74.31034483, 42.72222222,\n",
       "       59.625     , 63.5       , 75.66666667, 80.47058824, 59.625     ,\n",
       "       80.47058824, 60.51612903, 45.92307692, 75.66666667, 75.05882353,\n",
       "       74.96      , 80.47058824, 74.96      , 80.47058824, 77.55      ,\n",
       "       59.76923077, 43.5       , 59.9       , 74.96      , 74.31034483,\n",
       "       59.625     , 80.47058824, 77.        , 80.07692308, 59.38888889,\n",
       "       64.16666667, 42.13636364, 79.27272727, 63.14285714, 42.13636364,\n",
       "       42.72222222, 80.47058824, 43.61111111, 59.38888889, 78.71428571,\n",
       "       77.55      , 59.        , 80.07692308, 60.51612903, 77.        ,\n",
       "       59.38888889, 74.31034483, 75.05882353, 42.72222222, 75.66666667,\n",
       "       77.        , 78.71428571, 60.51612903, 66.33333333, 59.9       ,\n",
       "       58.16666667, 77.55      , 43.61111111, 59.9       , 59.76923077,\n",
       "       80.47058824, 74.96      , 67.        , 77.        , 59.625     ,\n",
       "       74.96      , 59.76923077, 80.47058824, 74.31034483, 74.31034483,\n",
       "       59.9       , 75.29411765, 77.        , 46.83333333, 80.47058824,\n",
       "       60.51612903, 42.13636364, 75.29411765, 74.31034483, 60.51612903,\n",
       "       77.        , 77.        , 77.55      , 60.51612903, 63.14285714,\n",
       "       59.38888889, 59.38888889, 80.47058824, 58.16666667, 75.29411765,\n",
       "       60.51612903, 59.76923077, 80.47058824, 59.38888889, 59.38888889,\n",
       "       59.9       , 59.38888889, 75.66666667, 78.71428571, 42.72222222,\n",
       "       42.13636364, 78.71428571, 58.16666667, 78.71428571, 43.61111111,\n",
       "       43.61111111, 77.        , 62.33333333, 63.5       , 62.33333333,\n",
       "       80.47058824, 77.55      , 74.96      , 42.72222222, 80.07692308,\n",
       "       45.92307692, 77.55      , 62.33333333, 78.71428571, 60.51612903,\n",
       "       62.33333333, 43.61111111, 62.33333333, 59.38888889, 60.51612903,\n",
       "       46.        , 45.5       , 77.        , 60.51612903, 80.47058824,\n",
       "       42.72222222, 75.05882353, 74.96      , 63.5       , 80.07692308,\n",
       "       44.4       , 75.29411765, 58.16666667, 45.92307692, 77.        ,\n",
       "       75.05882353, 42.72222222, 42.72222222, 77.        , 78.71428571,\n",
       "       42.72222222, 45.        , 64.16666667, 59.625     , 80.47058824,\n",
       "       74.31034483, 80.47058824, 75.05882353, 74.96      , 44.67741935,\n",
       "       78.71428571, 74.31034483, 80.07692308, 60.51612903, 59.625     ,\n",
       "       80.07692308, 44.67741935, 74.31034483, 64.16666667, 44.67741935,\n",
       "       59.38888889, 80.47058824, 59.9       , 77.55      , 42.13636364,\n",
       "       74.31034483, 42.13636364, 43.61111111, 43.61111111, 75.29411765,\n",
       "       74.96      , 44.4       , 44.67741935, 59.9       , 59.38888889,\n",
       "       61.        , 59.38888889, 74.96      , 64.16666667, 77.55      ,\n",
       "       43.5       , 44.67741935, 74.31034483, 74.96      , 78.71428571,\n",
       "       43.5       , 60.51612903, 59.76923077, 75.05882353, 75.66666667,\n",
       "       60.51612903, 60.51612903, 60.51612903, 74.96      , 75.29411765,\n",
       "       60.55555556, 44.67741935, 60.55555556, 77.        , 59.38888889,\n",
       "       60.51612903, 59.9       , 80.47058824, 59.38888889, 42.72222222,\n",
       "       58.16666667, 43.61111111, 42.13636364, 77.55      , 75.29411765,\n",
       "       59.38888889, 80.07692308, 80.47058824, 43.5       , 75.05882353,\n",
       "       43.61111111, 60.55555556, 59.76923077, 64.16666667, 59.76923077,\n",
       "       63.5       , 59.625     , 59.625     , 80.47058824, 59.38888889,\n",
       "       77.        , 60.55555556, 59.625     , 59.9       , 77.        ,\n",
       "       75.29411765, 74.31034483, 43.61111111, 42.13636364, 80.47058824,\n",
       "       58.16666667, 75.66666667, 74.31034483, 77.55      , 42.72222222,\n",
       "       75.05882353, 59.38888889, 80.07692308, 80.47058824, 80.47058824,\n",
       "       43.61111111, 60.51612903, 60.55555556, 74.96      , 46.        ,\n",
       "       43.61111111, 60.51612903, 80.07692308, 59.38888889, 66.        ,\n",
       "       77.55      , 42.72222222, 77.        , 44.67741935, 59.76923077,\n",
       "       63.14285714, 59.9       , 46.83333333, 74.31034483, 63.5       ,\n",
       "       79.27272727, 59.9       , 42.72222222, 44.67741935, 75.66666667,\n",
       "       63.66666667, 63.75      , 43.61111111, 44.67741935, 74.96      ,\n",
       "       44.67741935, 63.5       , 60.51612903, 74.31034483, 42.13636364,\n",
       "       59.76923077, 59.9       , 77.        , 42.72222222, 59.38888889,\n",
       "       58.16666667, 59.625     , 60.51612903, 42.13636364, 42.72222222])"
      ]
     },
     "execution_count": 42,
     "metadata": {},
     "output_type": "execute_result"
    }
   ],
   "source": [
    "# Prediction on test dataset\n",
    "\n",
    "predictions = tree.predict(feats)\n",
    "predictions"
   ]
  },
  {
   "cell_type": "code",
   "execution_count": 43,
   "metadata": {},
   "outputs": [
    {
     "data": {
      "text/plain": [
       "array([60., 75., 59., 64., 78., 79., 77., 77., 62., 64., 80., 74., 60.,\n",
       "       75., 45., 76., 42., 59., 43., 75., 43., 43., 58., 44., 74., 44.,\n",
       "       45., 75., 63., 60., 74., 74., 61., 75., 75., 78., 77., 78., 75.,\n",
       "       76., 44., 58., 60., 74., 75., 76., 43., 60., 79., 58., 75., 65.,\n",
       "       61., 61., 56., 60., 47., 61., 45., 80., 78., 65., 76., 75., 60.,\n",
       "       76., 43., 47., 75., 61., 64., 74., 67., 61., 77., 60., 58., 46.,\n",
       "       44., 43., 44., 79., 44., 64., 75., 64., 45., 77., 61., 44., 76.,\n",
       "       79., 80., 75., 80., 60., 60., 75., 42., 61., 60., 80., 79., 74.,\n",
       "       59., 78., 61., 64., 63., 61., 47., 45., 60., 75., 79., 62., 61.,\n",
       "       60., 43., 45., 47., 80., 80., 44., 43., 58., 47., 44., 77., 64.,\n",
       "       77., 75., 63., 59., 62., 75., 64., 78., 58., 60., 64., 61., 75.,\n",
       "       60., 58., 78., 77., 42., 75., 44., 46., 63., 43., 43., 59., 42.,\n",
       "       61., 80., 74., 44., 78., 80., 80., 45., 75., 44., 80., 62., 44.,\n",
       "       43., 80., 64., 63., 77., 44., 61., 45., 80., 78., 61., 80., 58.,\n",
       "       44., 42., 44., 75., 75., 79., 60., 59., 77., 42., 60., 43., 64.,\n",
       "       64., 78., 58., 64., 61., 42., 59., 43., 77., 61., 64., 46., 58.,\n",
       "       44., 62., 60., 64., 45., 74., 43., 60., 46., 76., 79., 58., 75.,\n",
       "       75., 75., 42., 46., 59., 44., 45., 66., 44., 80., 75., 74., 80.,\n",
       "       80., 61., 80., 80., 78., 43., 63., 43., 60., 44., 42., 64., 59.,\n",
       "       76., 80., 78., 61., 45., 43., 78., 64., 43., 74., 61., 61., 60.,\n",
       "       62., 64., 64., 60., 45., 61., 60., 59., 75., 61., 58., 61., 60.,\n",
       "       43., 80., 60., 44., 79., 74., 62., 75., 45., 42., 76., 60., 60.,\n",
       "       59., 64., 58., 63., 62., 74., 64., 46., 74., 62., 63., 64., 59.,\n",
       "       61., 62., 44., 76., 75., 42., 42., 64., 62., 46., 78., 46., 77.,\n",
       "       60., 60., 75., 79., 79., 61., 76., 79., 45., 47., 44., 60., 63.,\n",
       "       45., 75., 61., 63., 63., 75., 60., 61., 43., 64., 60., 79., 75.,\n",
       "       59., 44., 46., 67., 59., 75., 44., 60., 64., 46., 58., 75., 77.,\n",
       "       61., 44., 43., 64., 61., 64., 75., 75., 76., 65., 58., 79., 67.,\n",
       "       79., 74., 44., 59., 74., 46., 64., 61., 61., 59., 79., 60., 60.,\n",
       "       46., 61., 44., 77., 60., 78., 74., 43., 42., 76., 76., 75., 45.,\n",
       "       79., 61., 77., 59., 65., 80., 64., 75., 78., 46., 74., 75., 45.,\n",
       "       42., 60., 75., 75., 64., 75., 64., 78., 65., 60., 61., 60., 61.,\n",
       "       80., 62., 44., 43., 42., 80., 43., 60., 45., 74., 77., 60., 74.,\n",
       "       62., 78., 43., 43., 42., 43., 58., 60., 76., 78., 74., 80., 61.,\n",
       "       79., 64., 78., 59., 45., 43., 67., 77., 75., 62., 60., 43., 42.,\n",
       "       42., 79., 74., 58., 79., 61., 47., 75., 64., 75., 74., 63., 74.,\n",
       "       45., 45., 80., 44., 60., 79., 44., 64., 46., 64., 62., 74., 43.,\n",
       "       60., 60., 47., 44., 45., 80., 59., 80., 56., 42., 44., 45., 60.,\n",
       "       60., 76., 60., 61., 43., 74., 43., 62., 60., 42., 60., 74., 44.,\n",
       "       62., 74., 43., 60., 64., 76., 80., 60., 80., 61., 46., 76., 75.,\n",
       "       75., 80., 75., 80., 78., 60., 44., 60., 75., 74., 60., 80., 77.,\n",
       "       80., 59., 64., 42., 79., 63., 42., 43., 80., 44., 59., 79., 78.,\n",
       "       59., 80., 61., 77., 59., 74., 75., 43., 76., 77., 79., 61., 66.,\n",
       "       60., 58., 78., 44., 60., 60., 80., 75., 67., 77., 60., 75., 60.,\n",
       "       80., 74., 74., 60., 75., 77., 47., 80., 61., 42., 75., 74., 61.,\n",
       "       77., 77., 78., 61., 63., 59., 59., 80., 58., 75., 61., 60., 80.,\n",
       "       59., 59., 60., 59., 76., 79., 43., 42., 79., 58., 79., 44., 44.,\n",
       "       77., 62., 64., 62., 80., 78., 75., 43., 80., 46., 78., 62., 79.,\n",
       "       61., 62., 44., 62., 59., 61., 46., 46., 77., 61., 80., 43., 75.,\n",
       "       75., 64., 80., 44., 75., 58., 46., 77., 75., 43., 43., 77., 79.,\n",
       "       43., 45., 64., 60., 80., 74., 80., 75., 75., 45., 79., 74., 80.,\n",
       "       61., 60., 80., 45., 74., 64., 45., 59., 80., 60., 78., 42., 74.,\n",
       "       42., 44., 44., 75., 75., 44., 45., 60., 59., 61., 59., 75., 64.,\n",
       "       78., 44., 45., 74., 75., 79., 44., 61., 60., 75., 76., 61., 61.,\n",
       "       61., 75., 75., 61., 45., 61., 77., 59., 61., 60., 80., 59., 43.,\n",
       "       58., 44., 42., 78., 75., 59., 80., 80., 44., 75., 44., 61., 60.,\n",
       "       64., 60., 64., 60., 60., 80., 59., 77., 61., 60., 60., 77., 75.,\n",
       "       74., 44., 42., 80., 58., 76., 74., 78., 43., 75., 59., 80., 80.,\n",
       "       80., 44., 61., 61., 75., 46., 44., 61., 80., 59., 66., 78., 43.,\n",
       "       77., 45., 60., 63., 60., 47., 74., 64., 79., 60., 43., 45., 76.,\n",
       "       64., 64., 44., 45., 75., 45., 64., 61., 74., 42., 60., 60., 77.,\n",
       "       43., 59., 58., 60., 61., 42., 43.])"
      ]
     },
     "execution_count": 43,
     "metadata": {},
     "output_type": "execute_result"
    }
   ],
   "source": [
    "# Rounding up the predictions to whole numbers\n",
    "\n",
    "predictions = predictions.round()\n",
    "predictions"
   ]
  },
  {
   "cell_type": "code",
   "execution_count": 44,
   "metadata": {},
   "outputs": [
    {
     "data": {
      "text/html": [
       "<div>\n",
       "<style scoped>\n",
       "    .dataframe tbody tr th:only-of-type {\n",
       "        vertical-align: middle;\n",
       "    }\n",
       "\n",
       "    .dataframe tbody tr th {\n",
       "        vertical-align: top;\n",
       "    }\n",
       "\n",
       "    .dataframe thead th {\n",
       "        text-align: right;\n",
       "    }\n",
       "</style>\n",
       "<table border=\"1\" class=\"dataframe\">\n",
       "  <thead>\n",
       "    <tr style=\"text-align: right;\">\n",
       "      <th></th>\n",
       "      <th>student_id</th>\n",
       "      <th>edu</th>\n",
       "      <th>job</th>\n",
       "      <th>wealth</th>\n",
       "      <th>course</th>\n",
       "      <th>score</th>\n",
       "    </tr>\n",
       "  </thead>\n",
       "  <tbody>\n",
       "    <tr>\n",
       "      <th>0</th>\n",
       "      <td>810</td>\n",
       "      <td>2.0</td>\n",
       "      <td>1.0</td>\n",
       "      <td>1.0</td>\n",
       "      <td>0.0</td>\n",
       "      <td>60.0</td>\n",
       "    </tr>\n",
       "    <tr>\n",
       "      <th>1</th>\n",
       "      <td>1609</td>\n",
       "      <td>3.0</td>\n",
       "      <td>1.0</td>\n",
       "      <td>0.0</td>\n",
       "      <td>0.0</td>\n",
       "      <td>75.0</td>\n",
       "    </tr>\n",
       "    <tr>\n",
       "      <th>2</th>\n",
       "      <td>15</td>\n",
       "      <td>0.0</td>\n",
       "      <td>1.0</td>\n",
       "      <td>1.0</td>\n",
       "      <td>0.0</td>\n",
       "      <td>59.0</td>\n",
       "    </tr>\n",
       "    <tr>\n",
       "      <th>3</th>\n",
       "      <td>134</td>\n",
       "      <td>1.5</td>\n",
       "      <td>1.0</td>\n",
       "      <td>2.0</td>\n",
       "      <td>0.0</td>\n",
       "      <td>64.0</td>\n",
       "    </tr>\n",
       "    <tr>\n",
       "      <th>4</th>\n",
       "      <td>846</td>\n",
       "      <td>3.0</td>\n",
       "      <td>1.0</td>\n",
       "      <td>0.0</td>\n",
       "      <td>1.0</td>\n",
       "      <td>78.0</td>\n",
       "    </tr>\n",
       "  </tbody>\n",
       "</table>\n",
       "</div>"
      ],
      "text/plain": [
       "   student_id  edu  job  wealth  course  score\n",
       "0         810  2.0  1.0     1.0     0.0   60.0\n",
       "1        1609  3.0  1.0     0.0     0.0   75.0\n",
       "2          15  0.0  1.0     1.0     0.0   59.0\n",
       "3         134  1.5  1.0     2.0     0.0   64.0\n",
       "4         846  3.0  1.0     0.0     1.0   78.0"
      ]
     },
     "execution_count": 44,
     "metadata": {},
     "output_type": "execute_result"
    }
   ],
   "source": [
    "# Creating cleaned columns for our test dataset\n",
    "\n",
    "finalz['edu'] = feats['edu']\n",
    "finalz['job'] = feats['job']\n",
    "finalz['wealth'] = feats['wealth']\n",
    "finalz['course'] = feats['course']\n",
    "finalz['score'] = predictions\n",
    "finalz.head()"
   ]
  },
  {
   "cell_type": "code",
   "execution_count": 45,
   "metadata": {},
   "outputs": [],
   "source": [
    "# Exporting new test dataset as csv\n",
    "\n",
    "finalz.to_csv('students.csv', index=False)"
   ]
  },
  {
   "cell_type": "code",
   "execution_count": null,
   "metadata": {},
   "outputs": [],
   "source": []
  },
  {
   "cell_type": "code",
   "execution_count": null,
   "metadata": {},
   "outputs": [],
   "source": []
  }
 ],
 "metadata": {
  "kernelspec": {
   "display_name": "Python 3",
   "language": "python",
   "name": "python3"
  },
  "language_info": {
   "codemirror_mode": {
    "name": "ipython",
    "version": 3
   },
   "file_extension": ".py",
   "mimetype": "text/x-python",
   "name": "python",
   "nbconvert_exporter": "python",
   "pygments_lexer": "ipython3",
   "version": "3.7.6"
  }
 },
 "nbformat": 4,
 "nbformat_minor": 4
}
